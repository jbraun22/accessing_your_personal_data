{
 "cells": [
  {
   "cell_type": "code",
   "execution_count": 1,
   "metadata": {},
   "outputs": [],
   "source": [
    "import os\n",
    "import json\n",
    "import numpy as np\n",
    "import pandas as pd"
   ]
  },
  {
   "cell_type": "code",
   "execution_count": null,
   "metadata": {},
   "outputs": [],
   "source": []
  },
  {
   "cell_type": "code",
   "execution_count": 3,
   "metadata": {},
   "outputs": [],
   "source": [
    "# create a dataframe of the General Inferences demographic information file\n",
    "# modify the path to your General Inferences.csv file as appropriate\n",
    "df = pd.read_csv('Verizon/General Inferences.csv',\n",
    "                encoding='utf8')"
   ]
  },
  {
   "cell_type": "code",
   "execution_count": null,
   "metadata": {
    "scrolled": true
   },
   "outputs": [],
   "source": [
    "df"
   ]
  },
  {
   "cell_type": "code",
   "execution_count": 19,
   "metadata": {},
   "outputs": [],
   "source": [
    "cols = df.columns"
   ]
  },
  {
   "cell_type": "code",
   "execution_count": 20,
   "metadata": {},
   "outputs": [
    {
     "data": {
      "text/plain": [
       "Index(['HIGH LEVEL ELEMENT NAME', 'SUBGROUPING', 'DATE OF ENTRY', 'STATUS',\n",
       "       'A CODE THAT RANKS A HOUSEHOLD'S LIKELIHOOD TO BUY A MOBILE PHONE AT A CARRIER RETAIL STORE',\n",
       "       'A CODE THAT RANKS A HOUSEHOLD'S LIKELIHOOD TO BUY A MOBILE PHONE AT AN ELECTRONIC SPECIALTY STORE',\n",
       "       'A CODE THAT RANKS A HOUSEHOLD'S LIKELIHOOD TO BUY A MOBILE PHONE AT A CARRIER KIOSK',\n",
       "       'A CODE THAT RANKS A HOUSEHOLD'S LIKELIHOOD TO BUY A MOBILE PHONE AT A RETAIL STORE',\n",
       "       'A CODE THAT RANKS A HOUSEHOLD'S LIKELIHOOD TO BUY A MOBILE PHONE AT A DEPARTMENT STORE',\n",
       "       'A CODE THAT RANKS A HOUSEHOLD'S LIKELIHOOD TO DISCONTINUE LAND LINE PHONE SERVICE IN FAVOR OF WIRELESS SERVICE',\n",
       "       ...\n",
       "       'A CODE THAT REPRESENTS THE PROPENSITY RANKING OF AN INDIVIDUAL'S LIKELIHOOD TO BE USING TWITTER ON A REGULAR BASIS',\n",
       "       'A CODE THAT RANKS THE LIKELIHOOD FOR A PERSON TO BE AN ON-LINE PHOTO POSTER',\n",
       "       'SOMEONE IN HOUSEHOLD IS LIKELY A USER OF INTERNATIONAL LONG DISTANCE SERVICES',\n",
       "       'A  CODE THAT REPRESENTS HOUSEHOLDS THAT ARE LIKELY TO SUBSCRIBE TO A CELLULAR SERVICE',\n",
       "       'SOMEONE IN HOUSEHOLDS IS LIKELY A SUBSCRIBER TO AN INTERNET SERVICE',\n",
       "       'INDICATES IF ANYONE IN THE HOUSEHOLD PURCHASED WIRELESS PRODUCTS',\n",
       "       'SOMEONE IN HOUSEHOLD OWNS A PERSONAL COMPUTER',\n",
       "       'THIS IS A SCORE THAT PROVIDES INFORMATION ABOUT A CONSUMER HOUSEHOLD'S PROPENSITY TO PURCHASE NEW, GROUNDBREAKING ELECTRONICS AND TECHNOLOGY PRODUCTS AT PREMIUM PRICES',\n",
       "       'SOMEONE IN HOUSEHOLDS IS LIKELY TO USE OPTIONAL CALLING SERVICES',\n",
       "       'THE TOP 20 PERCENTAGE OF LONG DISTANCE USERS'],\n",
       "      dtype='object', length=336)"
      ]
     },
     "execution_count": 20,
     "metadata": {},
     "output_type": "execute_result"
    }
   ],
   "source": [
    "cols"
   ]
  },
  {
   "cell_type": "code",
   "execution_count": 23,
   "metadata": {},
   "outputs": [],
   "source": [
    "cols = cols[3:]"
   ]
  },
  {
   "cell_type": "code",
   "execution_count": 25,
   "metadata": {},
   "outputs": [],
   "source": [
    "for col in cols:\n",
    "    df[col] = df[col].str.replace('-','')"
   ]
  },
  {
   "cell_type": "code",
   "execution_count": null,
   "metadata": {},
   "outputs": [],
   "source": [
    "for col in cols:\n",
    "    print('\\nColumn: %s:'  % col, '\\n', \n",
    "          'number of value count entries: %i:' % len(df[col].value_counts()), '\\n\\n',\n",
    "        df[col].value_counts().head(20), '\\n\\n')"
   ]
  },
  {
   "cell_type": "code",
   "execution_count": null,
   "metadata": {},
   "outputs": [],
   "source": []
  }
 ],
 "metadata": {
  "kernelspec": {
   "display_name": "Python 3",
   "language": "python",
   "name": "python3"
  },
  "language_info": {
   "codemirror_mode": {
    "name": "ipython",
    "version": 3
   },
   "file_extension": ".py",
   "mimetype": "text/x-python",
   "name": "python",
   "nbconvert_exporter": "python",
   "pygments_lexer": "ipython3",
   "version": "3.7.7"
  }
 },
 "nbformat": 4,
 "nbformat_minor": 4
}
