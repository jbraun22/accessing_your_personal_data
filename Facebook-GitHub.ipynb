{
 "cells": [
  {
   "cell_type": "code",
   "execution_count": 1,
   "metadata": {},
   "outputs": [],
   "source": [
    "import os\n",
    "import json\n",
    "import pandas as pd\n",
    "from pandas import json_normalize"
   ]
  },
  {
   "cell_type": "code",
   "execution_count": 115,
   "metadata": {},
   "outputs": [],
   "source": [
    "# Modify path to your data as appropriate\n",
    "# create a dataframe from the json data in theadvertisers_using_your_activity_or_information.json file \n",
    "with open('Facebook/ads_information/advertisers_using_your_activity_or_information.json', 'r') as f:\n",
    "        data = json.load(f)\n",
    "df = pd.json_normalize(data, \"custom_audiences_all_types_v2\")"
   ]
  },
  {
   "cell_type": "code",
   "execution_count": null,
   "metadata": {
    "scrolled": true
   },
   "outputs": [],
   "source": [
    "df"
   ]
  },
  {
   "cell_type": "code",
   "execution_count": 137,
   "metadata": {},
   "outputs": [],
   "source": [
    "# Modify path to your data as appropriate\n",
    "# create a dataframe from the json in the your_off-facebook_activity.json file\n",
    "json_file_path = 'Facebook/apps_and_websites_off_of_facebook/your_off-facebook_activity.json'\n",
    "with open(json_file_path, 'r') as f:\n",
    "    data = json.load(f)\n",
    "\n",
    "tdf = pd.json_normalize(data, record_path=['off_facebook_activity_v2']) "
   ]
  },
  {
   "cell_type": "code",
   "execution_count": 138,
   "metadata": {},
   "outputs": [
    {
     "data": {
      "text/html": [
       "<div>\n",
       "<style scoped>\n",
       "    .dataframe tbody tr th:only-of-type {\n",
       "        vertical-align: middle;\n",
       "    }\n",
       "\n",
       "    .dataframe tbody tr th {\n",
       "        vertical-align: top;\n",
       "    }\n",
       "\n",
       "    .dataframe thead th {\n",
       "        text-align: right;\n",
       "    }\n",
       "</style>\n",
       "<table border=\"1\" class=\"dataframe\">\n",
       "  <thead>\n",
       "    <tr style=\"text-align: right;\">\n",
       "      <th></th>\n",
       "      <th>id</th>\n",
       "      <th>type</th>\n",
       "      <th>timestamp</th>\n",
       "    </tr>\n",
       "  </thead>\n",
       "  <tbody>\n",
       "    <tr>\n",
       "      <th>0</th>\n",
       "      <td>1519280744750367</td>\n",
       "      <td>CUSTOM</td>\n",
       "      <td>1679691900</td>\n",
       "    </tr>\n",
       "    <tr>\n",
       "      <th>1</th>\n",
       "      <td>1519280744750367</td>\n",
       "      <td>CUSTOM</td>\n",
       "      <td>1679343300</td>\n",
       "    </tr>\n",
       "    <tr>\n",
       "      <th>2</th>\n",
       "      <td>1519280744750367</td>\n",
       "      <td>CUSTOM</td>\n",
       "      <td>1676667720</td>\n",
       "    </tr>\n",
       "    <tr>\n",
       "      <th>3</th>\n",
       "      <td>1519280744750367</td>\n",
       "      <td>CUSTOM</td>\n",
       "      <td>1676321400</td>\n",
       "    </tr>\n",
       "    <tr>\n",
       "      <th>4</th>\n",
       "      <td>1519280744750367</td>\n",
       "      <td>CUSTOM</td>\n",
       "      <td>1676151120</td>\n",
       "    </tr>\n",
       "    <tr>\n",
       "      <th>5</th>\n",
       "      <td>1519280744750367</td>\n",
       "      <td>CUSTOM</td>\n",
       "      <td>1675715460</td>\n",
       "    </tr>\n",
       "    <tr>\n",
       "      <th>6</th>\n",
       "      <td>1519280744750367</td>\n",
       "      <td>PAGE_VIEW</td>\n",
       "      <td>1661376600</td>\n",
       "    </tr>\n",
       "    <tr>\n",
       "      <th>7</th>\n",
       "      <td>1519280744750367</td>\n",
       "      <td>PAGE_VIEW</td>\n",
       "      <td>1660595340</td>\n",
       "    </tr>\n",
       "    <tr>\n",
       "      <th>8</th>\n",
       "      <td>1519280744750367</td>\n",
       "      <td>PAGE_VIEW</td>\n",
       "      <td>1649343780</td>\n",
       "    </tr>\n",
       "  </tbody>\n",
       "</table>\n",
       "</div>"
      ],
      "text/plain": [
       "                 id       type   timestamp\n",
       "0  1519280744750367     CUSTOM  1679691900\n",
       "1  1519280744750367     CUSTOM  1679343300\n",
       "2  1519280744750367     CUSTOM  1676667720\n",
       "3  1519280744750367     CUSTOM  1676321400\n",
       "4  1519280744750367     CUSTOM  1676151120\n",
       "5  1519280744750367     CUSTOM  1675715460\n",
       "6  1519280744750367  PAGE_VIEW  1661376600\n",
       "7  1519280744750367  PAGE_VIEW  1660595340\n",
       "8  1519280744750367  PAGE_VIEW  1649343780"
      ]
     },
     "execution_count": 138,
     "metadata": {},
     "output_type": "execute_result"
    }
   ],
   "source": [
    "pd.json_normalize(tdf.iloc[0]['events'])"
   ]
  },
  {
   "cell_type": "code",
   "execution_count": 139,
   "metadata": {},
   "outputs": [
    {
     "data": {
      "text/html": [
       "<div>\n",
       "<style scoped>\n",
       "    .dataframe tbody tr th:only-of-type {\n",
       "        vertical-align: middle;\n",
       "    }\n",
       "\n",
       "    .dataframe tbody tr th {\n",
       "        vertical-align: top;\n",
       "    }\n",
       "\n",
       "    .dataframe thead th {\n",
       "        text-align: right;\n",
       "    }\n",
       "</style>\n",
       "<table border=\"1\" class=\"dataframe\">\n",
       "  <thead>\n",
       "    <tr style=\"text-align: right;\">\n",
       "      <th></th>\n",
       "      <th>name</th>\n",
       "      <th>events</th>\n",
       "    </tr>\n",
       "  </thead>\n",
       "  <tbody>\n",
       "    <tr>\n",
       "      <th>0</th>\n",
       "      <td>starbucks.com</td>\n",
       "      <td>[{'id': 1519280744750367, 'type': 'CUSTOM', 't...</td>\n",
       "    </tr>\n",
       "    <tr>\n",
       "      <th>1</th>\n",
       "      <td>copyrightalliance.org</td>\n",
       "      <td>[{'id': 125984621386767, 'type': 'PAGE_VIEW', ...</td>\n",
       "    </tr>\n",
       "    <tr>\n",
       "      <th>2</th>\n",
       "      <td>equifax.com</td>\n",
       "      <td>[{'id': 1157594847740986, 'type': 'PAGE_VIEW',...</td>\n",
       "    </tr>\n",
       "    <tr>\n",
       "      <th>3</th>\n",
       "      <td>experian.com</td>\n",
       "      <td>[{'id': 680167488685105, 'type': 'COMPLETE_REG...</td>\n",
       "    </tr>\n",
       "    <tr>\n",
       "      <th>4</th>\n",
       "      <td>wayfair.com</td>\n",
       "      <td>[{'id': 858494107845674, 'type': 'VIEW_CONTENT...</td>\n",
       "    </tr>\n",
       "    <tr>\n",
       "      <th>...</th>\n",
       "      <td>...</td>\n",
       "      <td>...</td>\n",
       "    </tr>\n",
       "    <tr>\n",
       "      <th>436</th>\n",
       "      <td>coloradoan.com</td>\n",
       "      <td>[{'id': 119333421877619, 'type': 'VIEW_CONTENT...</td>\n",
       "    </tr>\n",
       "    <tr>\n",
       "      <th>437</th>\n",
       "      <td>prestomusic.com</td>\n",
       "      <td>[{'id': 718618255437853, 'type': 'PAGE_VIEW', ...</td>\n",
       "    </tr>\n",
       "    <tr>\n",
       "      <th>438</th>\n",
       "      <td>wallisbank.com</td>\n",
       "      <td>[{'id': 579370859152151, 'type': 'PAGE_VIEW', ...</td>\n",
       "    </tr>\n",
       "    <tr>\n",
       "      <th>439</th>\n",
       "      <td>bswhealth.com</td>\n",
       "      <td>[{'id': 783356355805391, 'type': 'PAGE_VIEW', ...</td>\n",
       "    </tr>\n",
       "    <tr>\n",
       "      <th>440</th>\n",
       "      <td>Nextdoor: Local Neighborhood</td>\n",
       "      <td>[{'id': 114611681929998, 'type': 'CUSTOM', 'ti...</td>\n",
       "    </tr>\n",
       "  </tbody>\n",
       "</table>\n",
       "<p>441 rows × 2 columns</p>\n",
       "</div>"
      ],
      "text/plain": [
       "                             name  \\\n",
       "0                   starbucks.com   \n",
       "1           copyrightalliance.org   \n",
       "2                     equifax.com   \n",
       "3                    experian.com   \n",
       "4                     wayfair.com   \n",
       "..                            ...   \n",
       "436                coloradoan.com   \n",
       "437               prestomusic.com   \n",
       "438                wallisbank.com   \n",
       "439                 bswhealth.com   \n",
       "440  Nextdoor: Local Neighborhood   \n",
       "\n",
       "                                                events  \n",
       "0    [{'id': 1519280744750367, 'type': 'CUSTOM', 't...  \n",
       "1    [{'id': 125984621386767, 'type': 'PAGE_VIEW', ...  \n",
       "2    [{'id': 1157594847740986, 'type': 'PAGE_VIEW',...  \n",
       "3    [{'id': 680167488685105, 'type': 'COMPLETE_REG...  \n",
       "4    [{'id': 858494107845674, 'type': 'VIEW_CONTENT...  \n",
       "..                                                 ...  \n",
       "436  [{'id': 119333421877619, 'type': 'VIEW_CONTENT...  \n",
       "437  [{'id': 718618255437853, 'type': 'PAGE_VIEW', ...  \n",
       "438  [{'id': 579370859152151, 'type': 'PAGE_VIEW', ...  \n",
       "439  [{'id': 783356355805391, 'type': 'PAGE_VIEW', ...  \n",
       "440  [{'id': 114611681929998, 'type': 'CUSTOM', 'ti...  \n",
       "\n",
       "[441 rows x 2 columns]"
      ]
     },
     "execution_count": 139,
     "metadata": {},
     "output_type": "execute_result"
    }
   ],
   "source": [
    "tdf"
   ]
  },
  {
   "cell_type": "code",
   "execution_count": 140,
   "metadata": {
    "scrolled": true
   },
   "outputs": [],
   "source": [
    "# create a list of dataframes, one for each site, with records for each event in the 'events' json column\n",
    "tlist=[]\n",
    "for rec in tdf.itertuples(index=False):\n",
    "    tmpdf = pd.json_normalize(rec[1])\n",
    "    tmpdf['name'] = rec[0]\n",
    "    tlist.append(tmpdf)"
   ]
  },
  {
   "cell_type": "code",
   "execution_count": null,
   "metadata": {},
   "outputs": [],
   "source": [
    "tlist"
   ]
  },
  {
   "cell_type": "code",
   "execution_count": 142,
   "metadata": {
    "scrolled": true
   },
   "outputs": [],
   "source": [
    "# then combine the individual dataframes into one dataframe\n",
    "df = pd.DataFrame()\n",
    "df = df.append(tlist)"
   ]
  },
  {
   "cell_type": "code",
   "execution_count": null,
   "metadata": {},
   "outputs": [],
   "source": [
    "df"
   ]
  },
  {
   "cell_type": "code",
   "execution_count": 144,
   "metadata": {},
   "outputs": [],
   "source": [
    "df['newtimestamp'] = pd.to_datetime(df['timestamp'], unit='s')"
   ]
  },
  {
   "cell_type": "code",
   "execution_count": null,
   "metadata": {
    "scrolled": true
   },
   "outputs": [],
   "source": [
    "# get list of all sites/apps and the number of events for each\n",
    "df['name'].value_counts().head(25)"
   ]
  },
  {
   "cell_type": "code",
   "execution_count": null,
   "metadata": {},
   "outputs": [],
   "source": [
    "len(df['name'].value_counts())"
   ]
  },
  {
   "cell_type": "code",
   "execution_count": null,
   "metadata": {},
   "outputs": [],
   "source": [
    "df['newtimestamp'].min()"
   ]
  },
  {
   "cell_type": "code",
   "execution_count": null,
   "metadata": {},
   "outputs": [],
   "source": [
    "df['newtimestamp'].max()"
   ]
  },
  {
   "cell_type": "code",
   "execution_count": null,
   "metadata": {},
   "outputs": [],
   "source": []
  }
 ],
 "metadata": {
  "kernelspec": {
   "display_name": "Python 3",
   "language": "python",
   "name": "python3"
  },
  "language_info": {
   "codemirror_mode": {
    "name": "ipython",
    "version": 3
   },
   "file_extension": ".py",
   "mimetype": "text/x-python",
   "name": "python",
   "nbconvert_exporter": "python",
   "pygments_lexer": "ipython3",
   "version": "3.7.7"
  }
 },
 "nbformat": 4,
 "nbformat_minor": 4
}
