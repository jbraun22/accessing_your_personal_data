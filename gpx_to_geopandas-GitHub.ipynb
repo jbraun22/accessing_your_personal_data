{
 "cells": [
  {
   "cell_type": "markdown",
   "metadata": {},
   "source": [
    "# GPS tracks (GPX files) to Geopandas / Shapefile\n",
    "Jupyter Notebook by Florian Neukirchen. Related blog post: https://www.riannek.de/2022/gpx-to-geopandas/\n",
    "\n",
    "It is easy to open a complete folder of GPS Tracks (GPX files) in Geopandas, e.g. for plotting maps or to export them as shapefile."
   ]
  },
  {
   "cell_type": "code",
   "execution_count": 1,
   "metadata": {},
   "outputs": [],
   "source": [
    "import geopandas as gpd\n",
    "import os"
   ]
  },
  {
   "cell_type": "code",
   "execution_count": 2,
   "metadata": {},
   "outputs": [],
   "source": [
    "# change statement below to have the path to your apple_health_export/workout-routes directory\n",
    "folder = \"apple_health_export/workout-routes\""
   ]
  },
  {
   "cell_type": "code",
   "execution_count": null,
   "metadata": {},
   "outputs": [],
   "source": [
    "path = os.getcwd()\n",
    "print(\"Path of the current directory : \" + path)\n",
    "# get the name of the current directory\n",
    "repn = os.path.basename(path)\n",
    "print(\"Name of the current directory : \" + repn)"
   ]
  },
  {
   "cell_type": "code",
   "execution_count": 11,
   "metadata": {},
   "outputs": [],
   "source": [
    "# Create empty GeoDataFrame\n",
    "trackpoints = gpd.GeoDataFrame(columns=['time', 'geometry'], geometry='geometry')"
   ]
  },
  {
   "cell_type": "markdown",
   "metadata": {},
   "source": [
    "Try to open all gpx files in folder. Geopandas uses fiona to open/parse gpx. "
   ]
  },
  {
   "cell_type": "code",
   "execution_count": 13,
   "metadata": {
    "scrolled": true
   },
   "outputs": [],
   "source": [
    "for file in os.listdir(folder):\n",
    "    if file.endswith(('.gpx')):\n",
    "        try:\n",
    "            gdf = gpd.read_file(os.path.join(folder, file), layer='track_points')\n",
    "            trackpoints = trackpoints.append(gdf[['time', 'geometry']])\n",
    "        except:\n",
    "            print(\"Error\", file)"
   ]
  },
  {
   "cell_type": "code",
   "execution_count": 14,
   "metadata": {},
   "outputs": [],
   "source": [
    "trackpoints.sort_values(by=\"time\", inplace=True)\n",
    "trackpoints.reset_index(inplace=True, drop=True)"
   ]
  },
  {
   "cell_type": "code",
   "execution_count": 15,
   "metadata": {
    "scrolled": true
   },
   "outputs": [
    {
     "data": {
      "text/html": [
       "<div>\n",
       "<style scoped>\n",
       "    .dataframe tbody tr th:only-of-type {\n",
       "        vertical-align: middle;\n",
       "    }\n",
       "\n",
       "    .dataframe tbody tr th {\n",
       "        vertical-align: top;\n",
       "    }\n",
       "\n",
       "    .dataframe thead th {\n",
       "        text-align: right;\n",
       "    }\n",
       "</style>\n",
       "<table border=\"1\" class=\"dataframe\">\n",
       "  <thead>\n",
       "    <tr style=\"text-align: right;\">\n",
       "      <th></th>\n",
       "      <th>time</th>\n",
       "      <th>geometry</th>\n",
       "    </tr>\n",
       "  </thead>\n",
       "  <tbody>\n",
       "    <tr>\n",
       "      <th>0</th>\n",
       "      <td>2020-03-13T21:19:33</td>\n",
       "      <td>POINT (-97.74596 30.35053)</td>\n",
       "    </tr>\n",
       "    <tr>\n",
       "      <th>1</th>\n",
       "      <td>2020-03-13T21:19:44</td>\n",
       "      <td>POINT (-97.74616 30.35065)</td>\n",
       "    </tr>\n",
       "    <tr>\n",
       "      <th>2</th>\n",
       "      <td>2020-03-13T21:19:45</td>\n",
       "      <td>POINT (-97.74617 30.35066)</td>\n",
       "    </tr>\n",
       "    <tr>\n",
       "      <th>3</th>\n",
       "      <td>2020-03-13T21:19:46</td>\n",
       "      <td>POINT (-97.74619 30.35067)</td>\n",
       "    </tr>\n",
       "    <tr>\n",
       "      <th>4</th>\n",
       "      <td>2020-03-13T21:19:47</td>\n",
       "      <td>POINT (-97.74620 30.35068)</td>\n",
       "    </tr>\n",
       "  </tbody>\n",
       "</table>\n",
       "</div>"
      ],
      "text/plain": [
       "                  time                    geometry\n",
       "0  2020-03-13T21:19:33  POINT (-97.74596 30.35053)\n",
       "1  2020-03-13T21:19:44  POINT (-97.74616 30.35065)\n",
       "2  2020-03-13T21:19:45  POINT (-97.74617 30.35066)\n",
       "3  2020-03-13T21:19:46  POINT (-97.74619 30.35067)\n",
       "4  2020-03-13T21:19:47  POINT (-97.74620 30.35068)"
      ]
     },
     "execution_count": 15,
     "metadata": {},
     "output_type": "execute_result"
    }
   ],
   "source": [
    "trackpoints.head()"
   ]
  },
  {
   "cell_type": "code",
   "execution_count": 16,
   "metadata": {
    "scrolled": true
   },
   "outputs": [
    {
     "name": "stdout",
     "output_type": "stream",
     "text": [
      "<class 'geopandas.geodataframe.GeoDataFrame'>\n",
      "RangeIndex: 477639 entries, 0 to 477638\n",
      "Data columns (total 2 columns):\n",
      " #   Column    Non-Null Count   Dtype   \n",
      "---  ------    --------------   -----   \n",
      " 0   time      477639 non-null  object  \n",
      " 1   geometry  477639 non-null  geometry\n",
      "dtypes: geometry(1), object(1)\n",
      "memory usage: 7.3+ MB\n"
     ]
    }
   ],
   "source": [
    "trackpoints.info(show_counts=True)"
   ]
  },
  {
   "cell_type": "code",
   "execution_count": 17,
   "metadata": {},
   "outputs": [],
   "source": [
    "import pandas as pd\n",
    "trackpoints['time'] = pd.to_datetime(trackpoints['time'])"
   ]
  },
  {
   "cell_type": "code",
   "execution_count": 18,
   "metadata": {},
   "outputs": [],
   "source": [
    "trackpoints['time'] = trackpoints['time'].dt.tz_localize('America/Chicago')\n",
    "trackpoints['date'] = trackpoints['time'].dt.normalize()"
   ]
  },
  {
   "cell_type": "code",
   "execution_count": null,
   "metadata": {},
   "outputs": [],
   "source": [
    "trackpoints"
   ]
  },
  {
   "cell_type": "code",
   "execution_count": 20,
   "metadata": {},
   "outputs": [],
   "source": [
    "tpoints = trackpoints[['date', 'geometry']].drop_duplicates()"
   ]
  },
  {
   "cell_type": "code",
   "execution_count": 24,
   "metadata": {},
   "outputs": [],
   "source": [
    "# save the trackpoints to a pickle file to be read in by the Personal Data Datasets notebook \n",
    "# for processing the summary health data\n",
    "tpoints.to_pickle('Apple/apple_health_export/tpoints.pkl')"
   ]
  },
  {
   "cell_type": "code",
   "execution_count": null,
   "metadata": {},
   "outputs": [],
   "source": []
  }
 ],
 "metadata": {
  "kernelspec": {
   "display_name": "Python 3",
   "language": "python",
   "name": "python3"
  },
  "language_info": {
   "codemirror_mode": {
    "name": "ipython",
    "version": 3
   },
   "file_extension": ".py",
   "mimetype": "text/x-python",
   "name": "python",
   "nbconvert_exporter": "python",
   "pygments_lexer": "ipython3",
   "version": "3.7.7"
  }
 },
 "nbformat": 4,
 "nbformat_minor": 5
}
