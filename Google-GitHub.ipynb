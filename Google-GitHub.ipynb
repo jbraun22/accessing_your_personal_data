{
 "cells": [
  {
   "cell_type": "code",
   "execution_count": 1,
   "metadata": {},
   "outputs": [],
   "source": [
    "import os\n",
    "import json\n",
    "import numpy as np\n",
    "import pandas as pd\n",
    "from pandas import json_normalize"
   ]
  },
  {
   "cell_type": "code",
   "execution_count": 2,
   "metadata": {},
   "outputs": [],
   "source": [
    "# modify path to your file as appropriate\n",
    "# create dataframe from the MyActivity.json file\n",
    "with open('Google/Takeout/Mail/My Activity/Ads/MyActivity.json', 'r') as f:\n",
    "        data = json.load(f)\n",
    "df = pd.json_normalize(data)"
   ]
  },
  {
   "cell_type": "code",
   "execution_count": null,
   "metadata": {
    "scrolled": true
   },
   "outputs": [],
   "source": [
    "df"
   ]
  },
  {
   "cell_type": "code",
   "execution_count": 5,
   "metadata": {},
   "outputs": [
    {
     "data": {
      "text/plain": [
       "header                                                            Ads\n",
       "title               Visited https://clickserve.dartsearch.net/link...\n",
       "titleUrl            https://www.google.com/url?q=https://clickserv...\n",
       "time                                         2023-01-15T21:46:16.148Z\n",
       "products                                                        [Ads]\n",
       "details                                 [{'name': 'From Google Ads'}]\n",
       "activityControls                                 [Web & App Activity]\n",
       "Name: 1, dtype: object"
      ]
     },
     "execution_count": 5,
     "metadata": {},
     "output_type": "execute_result"
    }
   ],
   "source": [
    "df.loc[1]"
   ]
  },
  {
   "cell_type": "code",
   "execution_count": 5,
   "metadata": {},
   "outputs": [
    {
     "data": {
      "text/plain": [
       "array(['Ads'], dtype=object)"
      ]
     },
     "execution_count": 5,
     "metadata": {},
     "output_type": "execute_result"
    }
   ],
   "source": [
    "df['header'].unique()"
   ]
  },
  {
   "cell_type": "code",
   "execution_count": null,
   "metadata": {
    "scrolled": true
   },
   "outputs": [],
   "source": [
    "# list sites from the details column for all records\n",
    "pd.json_normalize(df['details'].apply(lambda x: x[0])).value_counts()"
   ]
  },
  {
   "cell_type": "code",
   "execution_count": null,
   "metadata": {},
   "outputs": [],
   "source": []
  },
  {
   "cell_type": "code",
   "execution_count": 15,
   "metadata": {},
   "outputs": [],
   "source": [
    "# modify path to your file as appropriate\n",
    "# create dataframe from the Discover/MyActivity.json file\n",
    "with open('Google/Takeout/Mail/My Activity/Discover/MyActivity.json', 'r') as f:\n",
    "        data = json.load(f)\n",
    "df = pd.json_normalize(data)"
   ]
  },
  {
   "cell_type": "code",
   "execution_count": null,
   "metadata": {
    "scrolled": true
   },
   "outputs": [],
   "source": [
    "df"
   ]
  },
  {
   "cell_type": "code",
   "execution_count": null,
   "metadata": {
    "scrolled": true
   },
   "outputs": [],
   "source": [
    "for x in df['subtitles']:\n",
    "    print('x:  ', x)\n",
    "    for y in x:\n",
    "        print('    y:    ', y)\n",
    "        pd.json_normalize(y)"
   ]
  },
  {
   "cell_type": "code",
   "execution_count": 19,
   "metadata": {},
   "outputs": [],
   "source": [
    "# create a dataframe of all topics displayed to my by Google's Discover cards along with the counts for each topic\n",
    "dflst = []\n",
    "for x in df['subtitles']:\n",
    "    dflst.append(pd.DataFrame(x))"
   ]
  },
  {
   "cell_type": "code",
   "execution_count": null,
   "metadata": {
    "scrolled": true
   },
   "outputs": [],
   "source": [
    "namedf = pd.DataFrame()\n",
    "namedf.append(dflst).value_counts().head(20)"
   ]
  },
  {
   "cell_type": "code",
   "execution_count": null,
   "metadata": {},
   "outputs": [],
   "source": []
  },
  {
   "cell_type": "code",
   "execution_count": 25,
   "metadata": {},
   "outputs": [],
   "source": [
    "# modify path to your file as appropriate\n",
    "# create dataframe from the Maps/MyActivity.json file\n",
    "with open('Google/Takeout/Mail/My Activity/Maps/MyActivity.json', 'r', encoding='utf8') as f:\n",
    "        data = json.load(f)\n",
    "df = pd.json_normalize(data)"
   ]
  },
  {
   "cell_type": "code",
   "execution_count": null,
   "metadata": {
    "scrolled": true
   },
   "outputs": [],
   "source": [
    "df"
   ]
  },
  {
   "cell_type": "code",
   "execution_count": null,
   "metadata": {},
   "outputs": [],
   "source": []
  },
  {
   "cell_type": "code",
   "execution_count": 27,
   "metadata": {},
   "outputs": [],
   "source": [
    "# modify path to your file as appropriate\n",
    "# create dataframe from the Search/MyActivity.json file\n",
    "with open('Google/Takeout/Mail/My Activity/Search/MyActivity.json', 'r', encoding='utf8') as f:\n",
    "        data = json.load(f)\n",
    "df = pd.json_normalize(data)"
   ]
  },
  {
   "cell_type": "code",
   "execution_count": null,
   "metadata": {
    "scrolled": true
   },
   "outputs": [],
   "source": [
    "df"
   ]
  },
  {
   "cell_type": "code",
   "execution_count": null,
   "metadata": {},
   "outputs": [],
   "source": []
  },
  {
   "cell_type": "code",
   "execution_count": 51,
   "metadata": {},
   "outputs": [],
   "source": [
    "# modify path to your file as appropriate\n",
    "# create dataframe from the YouTube and YouTube Music/history/watch-history.json file\n",
    "with open('Google/Takeout/YouTube and YouTube Music/history/watch-history.json', 'r', encoding='utf8') as f:\n",
    "        data = json.load(f)\n",
    "df = pd.json_normalize(data)"
   ]
  },
  {
   "cell_type": "code",
   "execution_count": null,
   "metadata": {
    "scrolled": true
   },
   "outputs": [],
   "source": [
    "df"
   ]
  }
 ],
 "metadata": {
  "kernelspec": {
   "display_name": "Python 3",
   "language": "python",
   "name": "python3"
  },
  "language_info": {
   "codemirror_mode": {
    "name": "ipython",
    "version": 3
   },
   "file_extension": ".py",
   "mimetype": "text/x-python",
   "name": "python",
   "nbconvert_exporter": "python",
   "pygments_lexer": "ipython3",
   "version": "3.7.7"
  }
 },
 "nbformat": 4,
 "nbformat_minor": 4
}
